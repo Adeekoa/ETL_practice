{
  "cells": [
    {
      "cell_type": "markdown",
      "metadata": {
        "id": "view-in-github",
        "colab_type": "text"
      },
      "source": [
        "<a href=\"https://colab.research.google.com/github/Adeekoa/ETL_practice/blob/main/ca_2.ipynb\" target=\"_parent\"><img src=\"https://colab.research.google.com/assets/colab-badge.svg\" alt=\"Open In Colab\"/></a>"
      ]
    },
    {
      "cell_type": "markdown",
      "id": "bbc883d1",
      "metadata": {
        "id": "bbc883d1"
      },
      "source": [
        "### Import important libraries"
      ]
    },
    {
      "cell_type": "code",
      "execution_count": null,
      "id": "ac3af7f4",
      "metadata": {
        "id": "ac3af7f4"
      },
      "outputs": [],
      "source": [
        "import pandas as pd\n",
        "import numpy as np\n",
        "import pypyodbc"
      ]
    },
    {
      "cell_type": "markdown",
      "id": "0840431a",
      "metadata": {
        "id": "0840431a"
      },
      "source": [
        "### Load the file into a pandas dataframe and preview the dataframe"
      ]
    },
    {
      "cell_type": "code",
      "execution_count": null,
      "id": "a5498867",
      "metadata": {
        "scrolled": false,
        "id": "a5498867",
        "outputId": "83077e8a-0dbf-4ca0-c85e-831285aa2c83"
      },
      "outputs": [
        {
          "data": {
            "text/html": [
              "<div>\n",
              "<style scoped>\n",
              "    .dataframe tbody tr th:only-of-type {\n",
              "        vertical-align: middle;\n",
              "    }\n",
              "\n",
              "    .dataframe tbody tr th {\n",
              "        vertical-align: top;\n",
              "    }\n",
              "\n",
              "    .dataframe thead th {\n",
              "        text-align: right;\n",
              "    }\n",
              "</style>\n",
              "<table border=\"1\" class=\"dataframe\">\n",
              "  <thead>\n",
              "    <tr style=\"text-align: right;\">\n",
              "      <th></th>\n",
              "      <th>Date</th>\n",
              "      <th>Station Area</th>\n",
              "      <th>Description</th>\n",
              "      <th>TOC</th>\n",
              "      <th>ORD</th>\n",
              "      <th>MOB</th>\n",
              "      <th>IA</th>\n",
              "      <th>LS</th>\n",
              "      <th>AH</th>\n",
              "      <th>MAV</th>\n",
              "      <th>CD</th>\n",
              "    </tr>\n",
              "  </thead>\n",
              "  <tbody>\n",
              "    <tr>\n",
              "      <th>0</th>\n",
              "      <td>01/01/2013</td>\n",
              "      <td>Rathfarnham</td>\n",
              "      <td>S/S OTHER</td>\n",
              "      <td>01:27:19</td>\n",
              "      <td>01:28:58</td>\n",
              "      <td>01:30:47</td>\n",
              "      <td>01:58:54</td>\n",
              "      <td>02:08:54</td>\n",
              "      <td>02:28:54</td>\n",
              "      <td>02:48:54</td>\n",
              "      <td>03:08:54</td>\n",
              "    </tr>\n",
              "    <tr>\n",
              "      <th>1</th>\n",
              "      <td>01/01/2013</td>\n",
              "      <td>Tallaght</td>\n",
              "      <td>Fire CAR</td>\n",
              "      <td>01:49:57</td>\n",
              "      <td>01:50:40</td>\n",
              "      <td>01:51:47</td>\n",
              "      <td>01:55:43</td>\n",
              "      <td>02:05:43</td>\n",
              "      <td>02:25:43</td>\n",
              "      <td>02:45:43</td>\n",
              "      <td>03:05:43</td>\n",
              "    </tr>\n",
              "    <tr>\n",
              "      <th>2</th>\n",
              "      <td>01/01/2013</td>\n",
              "      <td>North Strand</td>\n",
              "      <td>S/S RTA</td>\n",
              "      <td>03:35:24</td>\n",
              "      <td>03:36:14</td>\n",
              "      <td>03:38:28</td>\n",
              "      <td>03:41:20</td>\n",
              "      <td>03:51:20</td>\n",
              "      <td>04:11:20</td>\n",
              "      <td>04:31:20</td>\n",
              "      <td>04:51:20</td>\n",
              "    </tr>\n",
              "    <tr>\n",
              "      <th>3</th>\n",
              "      <td>01/01/2013</td>\n",
              "      <td>Tallaght</td>\n",
              "      <td>Fire CAR</td>\n",
              "      <td>04:12:51</td>\n",
              "      <td>04:13:56</td>\n",
              "      <td>04:14:32</td>\n",
              "      <td>04:20:48</td>\n",
              "      <td>04:30:48</td>\n",
              "      <td>04:50:48</td>\n",
              "      <td>05:10:48</td>\n",
              "      <td>05:30:48</td>\n",
              "    </tr>\n",
              "    <tr>\n",
              "      <th>4</th>\n",
              "      <td>01/01/2013</td>\n",
              "      <td>Finglas</td>\n",
              "      <td>Fire DOM PER</td>\n",
              "      <td>04:14:24</td>\n",
              "      <td>04:15:36</td>\n",
              "      <td>04:17:37</td>\n",
              "      <td>04:20:47</td>\n",
              "      <td>04:30:47</td>\n",
              "      <td>04:50:47</td>\n",
              "      <td>05:10:47</td>\n",
              "      <td>05:30:47</td>\n",
              "    </tr>\n",
              "  </tbody>\n",
              "</table>\n",
              "</div>"
            ],
            "text/plain": [
              "         Date  Station Area   Description       TOC       ORD       MOB  \\\n",
              "0  01/01/2013   Rathfarnham     S/S OTHER  01:27:19  01:28:58  01:30:47   \n",
              "1  01/01/2013      Tallaght      Fire CAR  01:49:57  01:50:40  01:51:47   \n",
              "2  01/01/2013  North Strand       S/S RTA  03:35:24  03:36:14  03:38:28   \n",
              "3  01/01/2013      Tallaght      Fire CAR  04:12:51  04:13:56  04:14:32   \n",
              "4  01/01/2013       Finglas  Fire DOM PER  04:14:24  04:15:36  04:17:37   \n",
              "\n",
              "         IA        LS        AH       MAV        CD  \n",
              "0  01:58:54  02:08:54  02:28:54  02:48:54  03:08:54  \n",
              "1  01:55:43  02:05:43  02:25:43  02:45:43  03:05:43  \n",
              "2  03:41:20  03:51:20  04:11:20  04:31:20  04:51:20  \n",
              "3  04:20:48  04:30:48  04:50:48  05:10:48  05:30:48  \n",
              "4  04:20:47  04:30:47  04:50:47  05:10:47  05:30:47  "
            ]
          },
          "execution_count": 2,
          "metadata": {},
          "output_type": "execute_result"
        }
      ],
      "source": [
        "df = pd.read_csv('FireBrigadeAndAmbulanceCallOuts.csv')\n",
        "df.head()"
      ]
    },
    {
      "cell_type": "markdown",
      "id": "9285501d",
      "metadata": {
        "id": "9285501d"
      },
      "source": [
        "### Output the numbers of rows and columns in the dataset"
      ]
    },
    {
      "cell_type": "code",
      "execution_count": null,
      "id": "41a39a90",
      "metadata": {
        "scrolled": true,
        "id": "41a39a90",
        "outputId": "cfcc101b-1930-4803-a51d-bdad1a3850b5"
      },
      "outputs": [
        {
          "name": "stdout",
          "output_type": "stream",
          "text": [
            "The dataset has  38556 rows and 11 columns\n"
          ]
        }
      ],
      "source": [
        "df_shape = df.shape\n",
        "print('The dataset has ', df_shape[0], 'rows', 'and', df_shape[1], 'columns')"
      ]
    },
    {
      "cell_type": "markdown",
      "id": "6f4195f7",
      "metadata": {
        "id": "6f4195f7"
      },
      "source": [
        "### Output the no of non-null rows by columns"
      ]
    },
    {
      "cell_type": "code",
      "execution_count": null,
      "id": "6323d0a9",
      "metadata": {
        "scrolled": true,
        "id": "6323d0a9",
        "outputId": "10da6259-0cba-4cf5-f162-c50f65c76b59"
      },
      "outputs": [
        {
          "data": {
            "text/plain": [
              "Date            38556\n",
              "Station Area    38556\n",
              "Description     38556\n",
              "TOC             38556\n",
              "ORD             38556\n",
              "MOB             37311\n",
              "IA              30962\n",
              "LS              38556\n",
              "AH                153\n",
              "MAV             38530\n",
              "CD              38530\n",
              "dtype: int64"
            ]
          },
          "execution_count": 4,
          "metadata": {},
          "output_type": "execute_result"
        }
      ],
      "source": [
        "    df.count() #the count function only counts the non-null rows"
      ]
    },
    {
      "cell_type": "markdown",
      "id": "7684f558",
      "metadata": {
        "id": "7684f558"
      },
      "source": [
        "### Output the number of null values (by column)."
      ]
    },
    {
      "cell_type": "code",
      "execution_count": null,
      "id": "0bb937b9",
      "metadata": {
        "scrolled": true,
        "id": "0bb937b9",
        "outputId": "8ff31c04-42da-4d93-94b4-1f3b456d04ed"
      },
      "outputs": [
        {
          "data": {
            "text/plain": [
              "Date                0\n",
              "Station Area        0\n",
              "Description         0\n",
              "TOC                 0\n",
              "ORD                 0\n",
              "MOB              1245\n",
              "IA               7594\n",
              "LS                  0\n",
              "AH              38403\n",
              "MAV                26\n",
              "CD                 26\n",
              "dtype: int64"
            ]
          },
          "execution_count": 5,
          "metadata": {},
          "output_type": "execute_result"
        }
      ],
      "source": [
        "df.isnull().sum()"
      ]
    },
    {
      "cell_type": "markdown",
      "id": "6fe027b0",
      "metadata": {
        "id": "6fe027b0"
      },
      "source": [
        "### Output the number of null values for all columns."
      ]
    },
    {
      "cell_type": "code",
      "execution_count": null,
      "id": "b52dddc3",
      "metadata": {
        "id": "b52dddc3",
        "outputId": "024a27af-a080-439a-f6ea-8b4b8d6a58cf"
      },
      "outputs": [
        {
          "name": "stdout",
          "output_type": "stream",
          "text": [
            "The total number of rows with null value is 47294\n"
          ]
        }
      ],
      "source": [
        "total_null_values = df.isnull().sum().sum()\n",
        "print('The total number of rows with null value is', total_null_values)"
      ]
    },
    {
      "cell_type": "markdown",
      "id": "bf6e535e",
      "metadata": {
        "id": "bf6e535e"
      },
      "source": [
        "### Output the total number of call outs by Station Area.\n"
      ]
    },
    {
      "cell_type": "code",
      "execution_count": null,
      "id": "61109bff",
      "metadata": {
        "scrolled": true,
        "id": "61109bff",
        "outputId": "65ab28aa-c860-4b8d-ef1e-fd31496d790a"
      },
      "outputs": [
        {
          "data": {
            "text/plain": [
              "Station Area\n",
              "Balbriggan         688\n",
              "Blanchardstown    2089\n",
              "Dolphins Barn     4018\n",
              "Donnybrook        1787\n",
              "Dun Laoghaire     3271\n",
              "Dunshaughlin         2\n",
              "Finglas           3030\n",
              "Kilbarrack        3548\n",
              "MH14                 1\n",
              "North Strand      1645\n",
              "Phibsborough      3160\n",
              "Rathfarnham       2129\n",
              "Skerries           449\n",
              "Swords            2614\n",
              "Tallaght          6525\n",
              "Tara St           3600\n",
              "dtype: int64"
            ]
          },
          "execution_count": 7,
          "metadata": {},
          "output_type": "execute_result"
        }
      ],
      "source": [
        "df.groupby(df['Station Area']).size()"
      ]
    },
    {
      "cell_type": "markdown",
      "id": "64f6fba1",
      "metadata": {
        "id": "64f6fba1"
      },
      "source": [
        "### Output the total number of call outs by Date and Station Area."
      ]
    },
    {
      "cell_type": "code",
      "execution_count": null,
      "id": "ae313735",
      "metadata": {
        "scrolled": false,
        "id": "ae313735",
        "outputId": "bf31841f-94fd-45d4-bdb3-465da43e8cfa"
      },
      "outputs": [
        {
          "data": {
            "text/plain": [
              "Date        Station Area  \n",
              "01/01/2013  Balbriggan        3\n",
              "            Blanchardstown    1\n",
              "            Dolphins Barn     4\n",
              "            Donnybrook        1\n",
              "            Dun Laoghaire     3\n",
              "                             ..\n",
              "31/12/2015  Donnybrook        1\n",
              "            Dun Laoghaire     1\n",
              "            Finglas           3\n",
              "            North Strand      1\n",
              "            Tallaght          5\n",
              "Length: 12483, dtype: int64"
            ]
          },
          "execution_count": 8,
          "metadata": {},
          "output_type": "execute_result"
        }
      ],
      "source": [
        "df.groupby(['Date', 'Station Area']).size()"
      ]
    },
    {
      "cell_type": "markdown",
      "id": "7de02325",
      "metadata": {
        "id": "7de02325"
      },
      "source": [
        "### Output the total number of call outs by Station Area and Date where the description is either Fire Car or Fire Alarm.\n"
      ]
    },
    {
      "cell_type": "code",
      "execution_count": null,
      "id": "6c0e8415",
      "metadata": {
        "scrolled": false,
        "id": "6c0e8415",
        "outputId": "4a9451c7-ad19-481a-d5a8-de5986ba3a02"
      },
      "outputs": [
        {
          "data": {
            "text/plain": [
              "Station Area  Date      \n",
              "Balbriggan    01/01/2013    2\n",
              "              01/01/2014    1\n",
              "              02/03/2013    1\n",
              "              02/06/2013    1\n",
              "              02/11/2013    1\n",
              "                           ..\n",
              "Tara St       31/07/2015    2\n",
              "              31/08/2013    1\n",
              "              31/10/2014    1\n",
              "              31/10/2015    1\n",
              "              31/12/2013    1\n",
              "Length: 5236, dtype: int64"
            ]
          },
          "execution_count": 9,
          "metadata": {},
          "output_type": "execute_result"
        }
      ],
      "source": [
        "df_1 = df[df['Description'].isin(['Fire ALARM', 'Fire Car'])]\n",
        "df_1.groupby(['Station Area', 'Date']).size()"
      ]
    },
    {
      "cell_type": "markdown",
      "id": "6de61b25",
      "metadata": {
        "id": "6de61b25"
      },
      "source": [
        "### Replace any instance of “,” (in any column) with an empty string"
      ]
    },
    {
      "cell_type": "code",
      "execution_count": null,
      "id": "7c13f268",
      "metadata": {
        "id": "7c13f268"
      },
      "outputs": [],
      "source": [
        "df.replace(\",\", \"\",inplace=True)"
      ]
    },
    {
      "cell_type": "markdown",
      "id": "429621b7",
      "metadata": {
        "id": "429621b7"
      },
      "source": [
        "### Replace any instance of “-” (in any column) with an empty string."
      ]
    },
    {
      "cell_type": "code",
      "execution_count": null,
      "id": "0af9b00a",
      "metadata": {
        "id": "0af9b00a"
      },
      "outputs": [],
      "source": [
        "df.replace(\"-\",\"\", inplace = True)"
      ]
    },
    {
      "cell_type": "markdown",
      "id": "5680acea",
      "metadata": {
        "id": "5680acea"
      },
      "source": [
        "### Drop rows for the columns (AH, MAV, CD) where at least one row value is NULL."
      ]
    },
    {
      "cell_type": "code",
      "execution_count": null,
      "id": "23fff9f3",
      "metadata": {
        "id": "23fff9f3"
      },
      "outputs": [],
      "source": [
        "df.dropna(subset=['CD','AH','MAV'],inplace=True)"
      ]
    },
    {
      "cell_type": "markdown",
      "id": "995c8922",
      "metadata": {
        "id": "995c8922"
      },
      "source": [
        "### Drop any duplicate rows (except for the first occurrence)."
      ]
    },
    {
      "cell_type": "code",
      "execution_count": null,
      "id": "4daa23b2",
      "metadata": {
        "id": "4daa23b2"
      },
      "outputs": [],
      "source": [
        "df.drop_duplicates(keep='first',inplace=True)"
      ]
    },
    {
      "cell_type": "markdown",
      "id": "06f25075",
      "metadata": {
        "id": "06f25075"
      },
      "source": [
        "### Output the minimum time difference between TOC and ORD."
      ]
    },
    {
      "cell_type": "code",
      "execution_count": null,
      "id": "010cd572",
      "metadata": {
        "id": "010cd572"
      },
      "outputs": [],
      "source": [
        "#step 1: Merge the date column with both TOC and ORD\n",
        "\n",
        "TOC_Date = df['Date']+\" \" +df['TOC']\n",
        "ORD_Date = df['Date'] +\" \"+df['ORD']\n"
      ]
    },
    {
      "cell_type": "code",
      "execution_count": null,
      "id": "ebe204c8",
      "metadata": {
        "id": "ebe204c8"
      },
      "outputs": [],
      "source": [
        "#Step 2: convert the merged columns into a datetime object\n",
        "\n",
        "TOC_Date=pd.to_datetime(TOC_Date)\n",
        "ORD_Date=pd.to_datetime(ORD_Date)"
      ]
    },
    {
      "cell_type": "code",
      "execution_count": null,
      "id": "5f405ae3",
      "metadata": {
        "id": "5f405ae3",
        "outputId": "49d34f9b-7bba-41f0-af36-28d14c45e949"
      },
      "outputs": [
        {
          "name": "stdout",
          "output_type": "stream",
          "text": [
            "The minimum response time is 0 days 00:00:30\n"
          ]
        }
      ],
      "source": [
        "#Step 3: find the minimum difference between TOC_Date and ORD_Date\n",
        "\n",
        "min_response_time = min(ORD_Date - TOC_Date)\n",
        "print('The minimum response time is', min_response_time)"
      ]
    },
    {
      "cell_type": "markdown",
      "id": "8bbfdb7e",
      "metadata": {
        "id": "8bbfdb7e"
      },
      "source": [
        "### Further Data Cleaning "
      ]
    },
    {
      "cell_type": "code",
      "execution_count": null,
      "id": "c68b133a",
      "metadata": {
        "id": "c68b133a"
      },
      "outputs": [],
      "source": [
        "#Rename columns in line with convention\n",
        "df.rename({'Station Area':'Station_Area'}, inplace = True, axis = 1)"
      ]
    },
    {
      "cell_type": "code",
      "execution_count": null,
      "id": "915e0bdc",
      "metadata": {
        "id": "915e0bdc"
      },
      "outputs": [],
      "source": [
        "#Replace missing values with 'None'\n",
        "df=df.fillna('None')"
      ]
    },
    {
      "cell_type": "markdown",
      "id": "25080dda",
      "metadata": {
        "id": "25080dda"
      },
      "source": [
        "### Connect to MS SQL Server"
      ]
    },
    {
      "cell_type": "code",
      "execution_count": null,
      "id": "075c1a11",
      "metadata": {
        "id": "075c1a11"
      },
      "outputs": [],
      "source": [
        "connection = pypyodbc.connect('Driver={ODBC Driver 17 for SQL Server};'\n",
        "'Server=sni;'\n",
        "'Database=master;'\n",
        "'encrypt=yes;'\n",
        "'TrustServerCertificate=yes;'\n",
        "'UID=sa;'\n",
        "'PWD=Doctor27$',autocommit = True)"
      ]
    },
    {
      "cell_type": "markdown",
      "id": "13fdaf78",
      "metadata": {
        "id": "13fdaf78"
      },
      "source": [
        "### Create a table with the pandas dataframe attributes on the SQL Server database"
      ]
    },
    {
      "cell_type": "code",
      "execution_count": null,
      "id": "30058a13",
      "metadata": {
        "scrolled": false,
        "id": "30058a13",
        "outputId": "23c9779a-a954-4705-be95-54c77a69af84"
      },
      "outputs": [
        {
          "name": "stdout",
          "output_type": "stream",
          "text": [
            "done\n"
          ]
        }
      ],
      "source": [
        "cursor = connection.cursor()\n",
        "SQLCommand = (\"\"\"CREATE TABLE Accident_response (Date varchar (256),\n",
        "            Station_Area varchar (256),\n",
        "            Description varchar (256),\n",
        "            TOC varchar (256),\n",
        "            ORD varchar (256) ,\n",
        "            MOB varchar (256),\n",
        "            IA varchar (256),\n",
        "            LS varchar (256),\n",
        "            AH varchar (256),\n",
        "            MAV varchar (256),\n",
        "            CD varchar (256)) \n",
        "              \"\"\")\n",
        "cursor.execute(SQLCommand)\n",
        "print('done')"
      ]
    },
    {
      "cell_type": "markdown",
      "id": "168b9e96",
      "metadata": {
        "id": "168b9e96"
      },
      "source": [
        "### Insert the rows into the created table on sql server"
      ]
    },
    {
      "cell_type": "code",
      "execution_count": null,
      "id": "fd82f123",
      "metadata": {
        "scrolled": false,
        "id": "fd82f123"
      },
      "outputs": [],
      "source": [
        "for index, row in df.iterrows():\n",
        "    #print (index)\n",
        "    #if index>6:\n",
        "       #print(row)\n",
        "    query = \"INSERT INTO Accident_response (Date, Station_Area, Description, TOC, ORD, MOB, IA, LS, AH, MAV, CD) VALUES(?,?,?,?,?,?,?,?,?,?,?)\"\n",
        "    cursor.execute(query, (row.Date, row.Station_Area, row. Description, row.TOC, row.ORD, row.MOB, row.IA, row.LS, row.AH, row.MAV, row.CD))"
      ]
    },
    {
      "cell_type": "markdown",
      "id": "ca59e04d",
      "metadata": {
        "id": "ca59e04d"
      },
      "source": [
        "### Check if the table is update on the sql server"
      ]
    },
    {
      "cell_type": "code",
      "execution_count": null,
      "id": "e4f22b25",
      "metadata": {
        "scrolled": true,
        "id": "e4f22b25",
        "outputId": "6b80e5df-d689-4564-9f7c-1da45f754261"
      },
      "outputs": [
        {
          "data": {
            "text/html": [
              "<div>\n",
              "<style scoped>\n",
              "    .dataframe tbody tr th:only-of-type {\n",
              "        vertical-align: middle;\n",
              "    }\n",
              "\n",
              "    .dataframe tbody tr th {\n",
              "        vertical-align: top;\n",
              "    }\n",
              "\n",
              "    .dataframe thead th {\n",
              "        text-align: right;\n",
              "    }\n",
              "</style>\n",
              "<table border=\"1\" class=\"dataframe\">\n",
              "  <thead>\n",
              "    <tr style=\"text-align: right;\">\n",
              "      <th></th>\n",
              "      <th>date</th>\n",
              "      <th>station_area</th>\n",
              "      <th>description</th>\n",
              "      <th>toc</th>\n",
              "      <th>ord</th>\n",
              "      <th>mob</th>\n",
              "      <th>ia</th>\n",
              "      <th>ls</th>\n",
              "      <th>ah</th>\n",
              "      <th>mav</th>\n",
              "      <th>cd</th>\n",
              "    </tr>\n",
              "  </thead>\n",
              "  <tbody>\n",
              "    <tr>\n",
              "      <th>0</th>\n",
              "      <td>01/01/2013</td>\n",
              "      <td>Rathfarnham</td>\n",
              "      <td>S/S OTHER</td>\n",
              "      <td>01:27:19</td>\n",
              "      <td>01:28:58</td>\n",
              "      <td>01:30:47</td>\n",
              "      <td>01:58:54</td>\n",
              "      <td>02:08:54</td>\n",
              "      <td>02:28:54</td>\n",
              "      <td>02:48:54</td>\n",
              "      <td>03:08:54</td>\n",
              "    </tr>\n",
              "    <tr>\n",
              "      <th>1</th>\n",
              "      <td>01/01/2013</td>\n",
              "      <td>Tallaght</td>\n",
              "      <td>Fire CAR</td>\n",
              "      <td>01:49:57</td>\n",
              "      <td>01:50:40</td>\n",
              "      <td>01:51:47</td>\n",
              "      <td>01:55:43</td>\n",
              "      <td>02:05:43</td>\n",
              "      <td>02:25:43</td>\n",
              "      <td>02:45:43</td>\n",
              "      <td>03:05:43</td>\n",
              "    </tr>\n",
              "    <tr>\n",
              "      <th>2</th>\n",
              "      <td>01/01/2013</td>\n",
              "      <td>North Strand</td>\n",
              "      <td>S/S RTA</td>\n",
              "      <td>03:35:24</td>\n",
              "      <td>03:36:14</td>\n",
              "      <td>03:38:28</td>\n",
              "      <td>03:41:20</td>\n",
              "      <td>03:51:20</td>\n",
              "      <td>04:11:20</td>\n",
              "      <td>04:31:20</td>\n",
              "      <td>04:51:20</td>\n",
              "    </tr>\n",
              "    <tr>\n",
              "      <th>3</th>\n",
              "      <td>01/01/2013</td>\n",
              "      <td>Tallaght</td>\n",
              "      <td>Fire CAR</td>\n",
              "      <td>04:12:51</td>\n",
              "      <td>04:13:56</td>\n",
              "      <td>04:14:32</td>\n",
              "      <td>04:20:48</td>\n",
              "      <td>04:30:48</td>\n",
              "      <td>04:50:48</td>\n",
              "      <td>05:10:48</td>\n",
              "      <td>05:30:48</td>\n",
              "    </tr>\n",
              "    <tr>\n",
              "      <th>4</th>\n",
              "      <td>01/01/2013</td>\n",
              "      <td>Finglas</td>\n",
              "      <td>Fire DOM PER</td>\n",
              "      <td>04:14:24</td>\n",
              "      <td>04:15:36</td>\n",
              "      <td>04:17:37</td>\n",
              "      <td>04:20:47</td>\n",
              "      <td>04:30:47</td>\n",
              "      <td>04:50:47</td>\n",
              "      <td>05:10:47</td>\n",
              "      <td>05:30:47</td>\n",
              "    </tr>\n",
              "    <tr>\n",
              "      <th>5</th>\n",
              "      <td>01/01/2013</td>\n",
              "      <td>Tallaght</td>\n",
              "      <td>S/S OTHER</td>\n",
              "      <td>04:54:30</td>\n",
              "      <td>04:59:08</td>\n",
              "      <td>05:02:07</td>\n",
              "      <td>05:09:48</td>\n",
              "      <td>05:19:48</td>\n",
              "      <td>05:39:48</td>\n",
              "      <td>05:59:48</td>\n",
              "      <td>06:19:48</td>\n",
              "    </tr>\n",
              "    <tr>\n",
              "      <th>6</th>\n",
              "      <td>01/01/2013</td>\n",
              "      <td>Dun Laoghaire</td>\n",
              "      <td>Fire ALARM</td>\n",
              "      <td>05:12:03</td>\n",
              "      <td>05:15:00</td>\n",
              "      <td>05:17:23</td>\n",
              "      <td>05:25:13</td>\n",
              "      <td>05:35:13</td>\n",
              "      <td>05:55:13</td>\n",
              "      <td>06:15:13</td>\n",
              "      <td>06:35:13</td>\n",
              "    </tr>\n",
              "    <tr>\n",
              "      <th>7</th>\n",
              "      <td>01/01/2013</td>\n",
              "      <td>Tara St</td>\n",
              "      <td>Fire ALARM</td>\n",
              "      <td>05:45:45</td>\n",
              "      <td>05:47:55</td>\n",
              "      <td>05:51:19</td>\n",
              "      <td>None</td>\n",
              "      <td>00:10:00</td>\n",
              "      <td>00:30:00</td>\n",
              "      <td>00:50:00</td>\n",
              "      <td>01:10:00</td>\n",
              "    </tr>\n",
              "    <tr>\n",
              "      <th>8</th>\n",
              "      <td>01/01/2013</td>\n",
              "      <td>Balbriggan</td>\n",
              "      <td>Fire ALARM</td>\n",
              "      <td>05:59:23</td>\n",
              "      <td>06:00:13</td>\n",
              "      <td>06:03:34</td>\n",
              "      <td>06:10:10</td>\n",
              "      <td>06:20:10</td>\n",
              "      <td>06:40:10</td>\n",
              "      <td>07:00:10</td>\n",
              "      <td>07:20:10</td>\n",
              "    </tr>\n",
              "    <tr>\n",
              "      <th>9</th>\n",
              "      <td>01/01/2013</td>\n",
              "      <td>Kilbarrack</td>\n",
              "      <td>Fire ALARM</td>\n",
              "      <td>06:07:42</td>\n",
              "      <td>06:08:51</td>\n",
              "      <td>06:10:41</td>\n",
              "      <td>06:13:47</td>\n",
              "      <td>06:23:47</td>\n",
              "      <td>06:43:47</td>\n",
              "      <td>07:03:47</td>\n",
              "      <td>07:23:47</td>\n",
              "    </tr>\n",
              "  </tbody>\n",
              "</table>\n",
              "</div>"
            ],
            "text/plain": [
              "         date   station_area   description       toc       ord       mob  \\\n",
              "0  01/01/2013    Rathfarnham     S/S OTHER  01:27:19  01:28:58  01:30:47   \n",
              "1  01/01/2013       Tallaght      Fire CAR  01:49:57  01:50:40  01:51:47   \n",
              "2  01/01/2013   North Strand       S/S RTA  03:35:24  03:36:14  03:38:28   \n",
              "3  01/01/2013       Tallaght      Fire CAR  04:12:51  04:13:56  04:14:32   \n",
              "4  01/01/2013        Finglas  Fire DOM PER  04:14:24  04:15:36  04:17:37   \n",
              "5  01/01/2013       Tallaght     S/S OTHER  04:54:30  04:59:08  05:02:07   \n",
              "6  01/01/2013  Dun Laoghaire    Fire ALARM  05:12:03  05:15:00  05:17:23   \n",
              "7  01/01/2013        Tara St    Fire ALARM  05:45:45  05:47:55  05:51:19   \n",
              "8  01/01/2013     Balbriggan    Fire ALARM  05:59:23  06:00:13  06:03:34   \n",
              "9  01/01/2013     Kilbarrack    Fire ALARM  06:07:42  06:08:51  06:10:41   \n",
              "\n",
              "         ia        ls        ah       mav        cd  \n",
              "0  01:58:54  02:08:54  02:28:54  02:48:54  03:08:54  \n",
              "1  01:55:43  02:05:43  02:25:43  02:45:43  03:05:43  \n",
              "2  03:41:20  03:51:20  04:11:20  04:31:20  04:51:20  \n",
              "3  04:20:48  04:30:48  04:50:48  05:10:48  05:30:48  \n",
              "4  04:20:47  04:30:47  04:50:47  05:10:47  05:30:47  \n",
              "5  05:09:48  05:19:48  05:39:48  05:59:48  06:19:48  \n",
              "6  05:25:13  05:35:13  05:55:13  06:15:13  06:35:13  \n",
              "7      None  00:10:00  00:30:00  00:50:00  01:10:00  \n",
              "8  06:10:10  06:20:10  06:40:10  07:00:10  07:20:10  \n",
              "9  06:13:47  06:23:47  06:43:47  07:03:47  07:23:47  "
            ]
          },
          "execution_count": 23,
          "metadata": {},
          "output_type": "execute_result"
        }
      ],
      "source": [
        "query = \"SELECT * from Accident_response;\"\n",
        "df1 = pd.read_sql(query, connection)\n",
        "df1.head(10)"
      ]
    },
    {
      "cell_type": "code",
      "execution_count": null,
      "id": "c6502230",
      "metadata": {
        "id": "c6502230",
        "outputId": "3e246be4-a34a-4513-acb3-985dccafdcd9"
      },
      "outputs": [
        {
          "name": "stdout",
          "output_type": "stream",
          "text": [
            "Transformed dataframe: (152, 11) \n",
            " SQL dataframe: (152, 11)\n"
          ]
        }
      ],
      "source": [
        "print(\"Transformed dataframe:\",df.shape,\"\\n\",\"SQL dataframe:\", df1.shape)"
      ]
    },
    {
      "cell_type": "code",
      "execution_count": null,
      "id": "0770506b",
      "metadata": {
        "id": "0770506b",
        "outputId": "d42dbce1-8574-4298-99cf-daee524d78b7"
      },
      "outputs": [
        {
          "name": "stdout",
          "output_type": "stream",
          "text": [
            "done\n"
          ]
        }
      ],
      "source": [
        "cursor = connection.cursor()\n",
        "SQLCommand = (\"\"\"DROP TABLE python_table1\n",
        "              \"\"\")\n",
        "cursor.execute(SQLCommand)\n",
        "print('done')\n"
      ]
    },
    {
      "cell_type": "code",
      "execution_count": null,
      "id": "c583a0d4",
      "metadata": {
        "id": "c583a0d4"
      },
      "outputs": [],
      "source": [
        "#from sqlalchemy.engine import URL\n",
        "#connection_url = URL.create(\n",
        "#    \"mssql+pyodbc\",\n",
        "#    username=\"sa\",\n",
        "#    password=\"Doctor27$\",\n",
        "#    host=\"20.107.9.62\",\n",
        "#    port=49242,\n",
        "#    database=\"master\",\n",
        "#    query={\n",
        "#        \"driver\": \"ODBC Driver 17 for SQL Server\",\n",
        "#        \"authentication\": \"ActiveDirectoryIntegrated\",\n",
        "#    },\n",
        "#)"
      ]
    },
    {
      "cell_type": "code",
      "execution_count": null,
      "id": "2cc5aacf",
      "metadata": {
        "id": "2cc5aacf"
      },
      "outputs": [],
      "source": [
        "#from sqlalchemy.engine import URL\n",
        "#from sqlalchemy import create_engine\n",
        "#connection_string = \"DRIVER={ODBC Driver 17 for SQL Server};SERVER=20.107.9.62;DATABASE=master;UID=sa;PWD=Doctor27$\"\n",
        "#connection_url = URL.create(\"mssql+pyodbc\", query={\"odbc_connect\": connection_string})\n",
        "#\n",
        "#engine = create_engine(connection_url)\n",
        "#\n",
        "#df.to_sql(\"Accident_response_table\", engine)"
      ]
    }
  ],
  "metadata": {
    "kernelspec": {
      "display_name": "Python 3",
      "language": "python",
      "name": "python3"
    },
    "language_info": {
      "codemirror_mode": {
        "name": "ipython",
        "version": 3
      },
      "file_extension": ".py",
      "mimetype": "text/x-python",
      "name": "python",
      "nbconvert_exporter": "python",
      "pygments_lexer": "ipython3",
      "version": "3.8.8"
    },
    "colab": {
      "name": "ca 2.ipynb",
      "provenance": [],
      "include_colab_link": true
    }
  },
  "nbformat": 4,
  "nbformat_minor": 5
}